{
 "cells": [
  {
   "cell_type": "markdown",
   "id": "4949fe0e",
   "metadata": {},
   "source": [
    "### Voronyi-Stepan-Camp-2025"
   ]
  },
  {
   "cell_type": "code",
   "execution_count": 111,
   "id": "a46b3a88",
   "metadata": {},
   "outputs": [],
   "source": [
    "import pandas as pd\n",
    "from sklearn.model_selection import train_test_split, cross_val_score\n",
    "from sklearn.preprocessing import LabelEncoder\n",
    "from sklearn.ensemble import RandomForestClassifier\n",
    "from xgboost import XGBClassifier"
   ]
  },
  {
   "cell_type": "code",
   "execution_count": 112,
   "id": "c616bd15",
   "metadata": {},
   "outputs": [],
   "source": [
    "train = pd.read_csv(r\"C:\\Users\\Stepan\\Stepan-Voronyi-Camp-2025\\Lesson 11\\data\\train.csv\")\n",
    "test  = pd.read_csv(r\"C:\\Users\\Stepan\\Stepan-Voronyi-Camp-2025\\Lesson 11\\data\\test.csv\")\n",
    "test_ids = test[\"PassengerId\"]"
   ]
  },
  {
   "cell_type": "code",
   "execution_count": 113,
   "id": "48edeaab",
   "metadata": {},
   "outputs": [],
   "source": [
    "for df in (train, test):\n",
    "    df[\"Age\"] = df[\"Age\"].fillna(df[\"Age\"].median())\n",
    "    df[\"Fare\"] = df[\"Fare\"].fillna(df[\"Fare\"].median())\n",
    "    df[\"Embarked\"] = df[\"Embarked\"].fillna(df[\"Embarked\"].mode()[0])"
   ]
  },
  {
   "cell_type": "code",
   "execution_count": 114,
   "id": "48263062",
   "metadata": {},
   "outputs": [],
   "source": [
    "for df in (train, test):\n",
    "    df[\"Age\"] = df[\"Age\"].fillna(df[\"Age\"].median())\n",
    "    df[\"Fare\"] = df[\"Fare\"].fillna(df[\"Fare\"].median())\n",
    "    df[\"Embarked\"] = df[\"Embarked\"].fillna(df[\"Embarked\"].mode()[0])"
   ]
  },
  {
   "cell_type": "code",
   "execution_count": 121,
   "id": "902993e0",
   "metadata": {},
   "outputs": [],
   "source": [
    "features = [\"Pclass\", \"Sex\", \"Age\", \"SibSp\", \"Parch\", \"Fare\", \"Embarked\"]\n",
    "train = train[features + [\"Survived\"]]\n",
    "test  = test[features]\n",
    "\n",
    "for col in [\"Sex\", \"Embarked\"]:\n",
    "    le = LabelEncoder()\n",
    "    train.loc[:, col] = le.fit_transform(train[col])\n",
    "    test.loc[:, col] = le.transform(test[col])"
   ]
  },
  {
   "cell_type": "code",
   "execution_count": 123,
   "id": "393fe076",
   "metadata": {},
   "outputs": [
    {
     "name": "stdout",
     "output_type": "stream",
     "text": [
      "Train size: 712\n",
      "Validation size: 179\n"
     ]
    }
   ],
   "source": [
    "X = train[features]\n",
    "y = train[\"Survived\"]\n",
    "\n",
    "X_train, X_val, y_train, y_val = train_test_split(X, y,test_size=0.2,\n",
    "    random_state=42,stratify=y\n",
    ")\n",
    "\n",
    "print(\"Train size:\", X_train.shape[0])\n",
    "print(\"Validation size:\", X_val.shape[0])"
   ]
  },
  {
   "cell_type": "code",
   "execution_count": 124,
   "id": "8724805c",
   "metadata": {},
   "outputs": [
    {
     "name": "stdout",
     "output_type": "stream",
     "text": [
      "[RF] 5-fold CV accuracy: 83.167% ± 2.055%\n",
      "[XGB] 5-fold CV accuracy: 83.393% ± 2.058%\n"
     ]
    }
   ],
   "source": [
    "rf = RandomForestClassifier(n_estimators=200, max_depth=10, random_state=42)\n",
    "xgb = XGBClassifier(n_estimators=200, max_depth=5, learning_rate=0.1, eval_metric=\"logloss\")\n",
    "\n",
    "rf_cv = cross_val_score(rf, X, y, cv=5, scoring='accuracy')\n",
    "xgb_cv = cross_val_score(xgb, X, y, cv=5, scoring='accuracy')\n",
    "\n",
    "print(f\"[RF] 5-fold CV accuracy: {rf_cv.mean():.3%} ± {rf_cv.std():.3%}\")\n",
    "print(f\"[XGB] 5-fold CV accuracy: {xgb_cv.mean():.3%} ± {xgb_cv.std():.3%}\")"
   ]
  },
  {
   "cell_type": "code",
   "execution_count": 125,
   "id": "fc2cbb64",
   "metadata": {},
   "outputs": [
    {
     "name": "stdout",
     "output_type": "stream",
     "text": [
      "[RF] Validation accuracy: 79.888%\n",
      "[XGB] Validation accuracy: 79.888%\n"
     ]
    }
   ],
   "source": [
    "rf.fit(X_train, y_train)\n",
    "rf_val = rf.score(X_val, y_val)\n",
    "print(f\"[RF] Validation accuracy: {rf_val:.3%}\")\n",
    "\n",
    "xgb.fit(X_train, y_train)\n",
    "xgb_val = xgb.score(X_val, y_val)\n",
    "print(f\"[XGB] Validation accuracy: {xgb_val:.3%}\")"
   ]
  },
  {
   "cell_type": "code",
   "execution_count": 126,
   "id": "aff76c94",
   "metadata": {},
   "outputs": [
    {
     "name": "stdout",
     "output_type": "stream",
     "text": [
      "submission_rf.csv ready\n"
     ]
    }
   ],
   "source": [
    "rf_preds = rf.predict(test)\n",
    "submission_rf = pd.DataFrame({\n",
    "    \"PassengerId\": test_ids,\n",
    "    \"Survived\": rf_preds\n",
    "})\n",
    "submission_rf.to_csv(\"submission_rf.csv\", index=False)\n",
    "print(\"submission_rf.csv ready\")"
   ]
  },
  {
   "cell_type": "code",
   "execution_count": 127,
   "id": "30f78819",
   "metadata": {},
   "outputs": [
    {
     "name": "stdout",
     "output_type": "stream",
     "text": [
      "submission_xgb.csv ready\n"
     ]
    }
   ],
   "source": [
    "xgb_preds = xgb.predict(test)\n",
    "submission_xgb = pd.DataFrame({\n",
    "    \"PassengerId\": test_ids,\n",
    "    \"Survived\": xgb_preds\n",
    "})\n",
    "submission_xgb.to_csv(\"submission_xgb.csv\", index=False)\n",
    "print(\"submission_xgb.csv ready\")"
   ]
  },
  {
   "cell_type": "markdown",
   "id": "005361f0",
   "metadata": {},
   "source": [
    "I chose 2 models and trained them here is the result"
   ]
  },
  {
   "cell_type": "markdown",
   "id": "1d5e19f4",
   "metadata": {},
   "source": [
    "![image](image.png)"
   ]
  }
 ],
 "metadata": {
  "kernelspec": {
   "display_name": "Python 3",
   "language": "python",
   "name": "python3"
  },
  "language_info": {
   "codemirror_mode": {
    "name": "ipython",
    "version": 3
   },
   "file_extension": ".py",
   "mimetype": "text/x-python",
   "name": "python",
   "nbconvert_exporter": "python",
   "pygments_lexer": "ipython3",
   "version": "3.13.2"
  }
 },
 "nbformat": 4,
 "nbformat_minor": 5
}
