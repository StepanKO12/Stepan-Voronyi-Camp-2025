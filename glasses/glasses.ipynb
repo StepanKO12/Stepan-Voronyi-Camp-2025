{
 "cells": [
  {
   "cell_type": "markdown",
   "id": "83ba4e10",
   "metadata": {},
   "source": [
    "### Voronyi-Stepan-Camp-2025"
   ]
  },
  {
   "cell_type": "markdown",
   "id": "4f041830",
   "metadata": {},
   "source": [
    "The essence of the formula is to find the number of attempts in which we can check the maximum number of floors, given that we have a limited number of glasses."
   ]
  },
  {
   "cell_type": "code",
   "execution_count": null,
   "id": "cb3327cc",
   "metadata": {},
   "outputs": [
    {
     "name": "stdout",
     "output_type": "stream",
     "text": [
      "9\n",
      "8\n",
      "11\n"
     ]
    }
   ],
   "source": [
    "def min_attempts(k: int, F: int) -> int:\n",
    "    dp = [0] * (k+1)\n",
    "    m = 0\n",
    "    while dp[k] < F:\n",
    "        m += 1\n",
    "        for i in range(k, 0, -1):\n",
    "            dp[i] = dp[i] + dp[i-1] + 1\n",
    "    return m\n",
    "\n",
    "print(min_attempts(k=3, F=100))\n",
    "print(min_attempts(k=4, F=100))\n",
    "print(min_attempts(k=5, F=1000))"
   ]
  }
 ],
 "metadata": {
  "kernelspec": {
   "display_name": "Python 3",
   "language": "python",
   "name": "python3"
  },
  "language_info": {
   "codemirror_mode": {
    "name": "ipython",
    "version": 3
   },
   "file_extension": ".py",
   "mimetype": "text/x-python",
   "name": "python",
   "nbconvert_exporter": "python",
   "pygments_lexer": "ipython3",
   "version": "3.13.2"
  }
 },
 "nbformat": 4,
 "nbformat_minor": 5
}
