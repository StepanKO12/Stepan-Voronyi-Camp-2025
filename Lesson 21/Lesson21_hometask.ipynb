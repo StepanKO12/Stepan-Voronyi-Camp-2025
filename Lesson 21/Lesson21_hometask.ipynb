{
 "cells": [
  {
   "cell_type": "markdown",
   "id": "89fb6d8c",
   "metadata": {},
   "source": [
    "### Voronyi-Stepan-Camp-2025"
   ]
  },
  {
   "cell_type": "code",
   "execution_count": 2,
   "id": "27bdfb87",
   "metadata": {},
   "outputs": [],
   "source": [
    "import pandas as pd\n",
    "from sklearn.model_selection import train_test_split"
   ]
  },
  {
   "cell_type": "code",
   "execution_count": 3,
   "id": "b73bed42",
   "metadata": {},
   "outputs": [
    {
     "name": "stdout",
     "output_type": "stream",
     "text": [
      "len of texts_neg = 5,331\n",
      "\n",
      " simplistic , silly and tedious . \n",
      "\n",
      " it's so laddish and juvenile , only teenage boys could possibly find it funny . \n",
      "\n",
      " exploitative and largely devoid of the depth or sophistication that would make watching such a graphic treatment of the crimes bearable . \n",
      "\n",
      " [garbus] discards the potential for pathological study , exhuming instead , the skewed melodrama of the circumstantial situation . \n",
      "\n",
      " a visually flashy but narratively opaque and emotionally vapid exercise in style and mystification . \n"
     ]
    }
   ],
   "source": [
    "fn='data/rt-polarity.neg'\n",
    "\n",
    "with open(fn, \"r\",encoding='utf-8', errors='ignore') as f: \n",
    "    content = f.read()\n",
    "texts_neg=  content.splitlines()\n",
    "print ('len of texts_neg = {:,}'.format (len(texts_neg)))\n",
    "for review in texts_neg[:5]:\n",
    "    print ( '\\n', review)"
   ]
  },
  {
   "cell_type": "code",
   "execution_count": 4,
   "id": "0041c6a1",
   "metadata": {},
   "outputs": [
    {
     "name": "stdout",
     "output_type": "stream",
     "text": [
      "len of texts_pos = 5,331\n",
      "\n",
      " the rock is destined to be the 21st century's new \" conan \" and that he's going to make a splash even greater than arnold schwarzenegger , jean-claud van damme or steven segal . \n",
      "\n",
      " the gorgeously elaborate continuation of \" the lord of the rings \" trilogy is so huge that a column of words cannot adequately describe co-writer/director peter jackson's expanded vision of j . r . r . tolkien's middle-earth . \n",
      "\n",
      " effective but too-tepid biopic\n",
      "\n",
      " if you sometimes like to go to the movies to have fun , wasabi is a good place to start . \n",
      "\n",
      " emerges as something rare , an issue movie that's so honest and keenly observed that it doesn't feel like one . \n"
     ]
    }
   ],
   "source": [
    "fn='data/rt-polarity.pos'\n",
    "\n",
    "with open(fn, \"r\",encoding='utf-8', errors='ignore') as f:\n",
    "    content = f.read()\n",
    "texts_pos=  content.splitlines()\n",
    "print ('len of texts_pos = {:,}'.format (len(texts_pos)))\n",
    "for review in texts_pos[:5]:\n",
    "    print ('\\n', review)"
   ]
  },
  {
   "cell_type": "code",
   "execution_count": 5,
   "id": "7d47c20b",
   "metadata": {},
   "outputs": [
    {
     "name": "stdout",
     "output_type": "stream",
     "text": [
      "Combined DataFrame shape: (10662, 2)\n"
     ]
    }
   ],
   "source": [
    "df = pd.concat([\n",
    "    pd.DataFrame({'text': texts_neg, 'label': 0}),\n",
    "    pd.DataFrame({'text': texts_pos, 'label': 1})\n",
    "], ignore_index=True)\n",
    "print(f'Combined DataFrame shape: {df.shape}')"
   ]
  },
  {
   "cell_type": "code",
   "execution_count": 6,
   "id": "98b99ea7",
   "metadata": {},
   "outputs": [
    {
     "name": "stdout",
     "output_type": "stream",
     "text": [
      "Train samples: 8,529 | Test samples: 2,133\n"
     ]
    }
   ],
   "source": [
    "train_df, test_df = train_test_split(\n",
    "    df, test_size=0.2, stratify=df['label'], random_state=42)\n",
    "print(f'Train samples: {len(train_df):,} | Test samples: {len(test_df):,}')"
   ]
  },
  {
   "cell_type": "code",
   "execution_count": 7,
   "id": "df81878d",
   "metadata": {},
   "outputs": [
    {
     "name": "stdout",
     "output_type": "stream",
     "text": [
      "Method 1: TF-IDF + Logistic Regression \n",
      "Accuracy : 0.7797\n",
      "Precision: 0.7739\n",
      "Recall   : 0.7899\n",
      "F1-Score : 0.7818\n"
     ]
    }
   ],
   "source": [
    "from sklearn.feature_extraction.text import TfidfVectorizer\n",
    "from sklearn.linear_model import LogisticRegression\n",
    "from sklearn.metrics import accuracy_score, precision_score, recall_score, f1_score\n",
    "\n",
    "tfidf = TfidfVectorizer(max_features=15000, ngram_range=(1,2))\n",
    "X_train_tfidf = tfidf.fit_transform(train_df['text'])\n",
    "X_test_tfidf  = tfidf.transform(test_df['text'])\n",
    "y_train = train_df['label']\n",
    "y_test  = test_df['label']\n",
    "\n",
    "clf_lr = LogisticRegression(max_iter=1000)\n",
    "clf_lr.fit(X_train_tfidf, y_train)\n",
    "y_pred_lr = clf_lr.predict(X_test_tfidf)\n",
    "\n",
    "print(\"Method 1: TF-IDF + Logistic Regression \")\n",
    "print(f\"Accuracy : {accuracy_score(y_test, y_pred_lr):.4f}\")\n",
    "print(f\"Precision: {precision_score(y_test, y_pred_lr):.4f}\")\n",
    "print(f\"Recall   : {recall_score(y_test, y_pred_lr):.4f}\")\n",
    "print(f\"F1-Score : {f1_score(y_test, y_pred_lr):.4f}\")"
   ]
  },
  {
   "cell_type": "code",
   "execution_count": 9,
   "id": "3df53861",
   "metadata": {},
   "outputs": [
    {
     "name": "stdout",
     "output_type": "stream",
     "text": [
      "Method 2: Word Embeddings (spaCy) + Logistic Regression \n",
      "Accuracy : 0.6962\n",
      "Precision: 0.7061\n",
      "Recall   : 0.6717\n",
      "F1-Score : 0.6885\n"
     ]
    }
   ],
   "source": [
    "import spacy\n",
    "import numpy as np\n",
    "from sklearn.linear_model import LogisticRegression\n",
    "\n",
    "nlp = spacy.load(\"en_core_web_md\")\n",
    "\n",
    "def get_doc_vector(text):\n",
    "    return nlp(text).vector\n",
    "\n",
    "X_train_embed = np.vstack(train_df['text'].apply(get_doc_vector).values)\n",
    "X_test_embed  = np.vstack(test_df['text'].apply(get_doc_vector).values)\n",
    "\n",
    "clf_embed = LogisticRegression(max_iter=1000)\n",
    "clf_embed.fit(X_train_embed, y_train)\n",
    "y_pred_embed = clf_embed.predict(X_test_embed)\n",
    "\n",
    "print(\"Method 2: Word Embeddings (spaCy) + Logistic Regression \")\n",
    "print(f\"Accuracy : {accuracy_score(y_test, y_pred_embed):.4f}\")\n",
    "print(f\"Precision: {precision_score(y_test, y_pred_embed):.4f}\")\n",
    "print(f\"Recall   : {recall_score(y_test, y_pred_embed):.4f}\")\n",
    "print(f\"F1-Score : {f1_score(y_test, y_pred_embed):.4f}\")"
   ]
  },
  {
   "cell_type": "code",
   "execution_count": 11,
   "id": "5449b974",
   "metadata": {},
   "outputs": [
    {
     "name": "stdout",
     "output_type": "stream",
     "text": [
      "WARNING:tensorflow:From c:\\Users\\Stepan\\Stepan-Voronyi-Camp-2025\\.venv310\\lib\\site-packages\\tf_keras\\src\\losses.py:2976: The name tf.losses.sparse_softmax_cross_entropy is deprecated. Please use tf.compat.v1.losses.sparse_softmax_cross_entropy instead.\n",
      "\n"
     ]
    },
    {
     "name": "stderr",
     "output_type": "stream",
     "text": [
      "Xet Storage is enabled for this repo, but the 'hf_xet' package is not installed. Falling back to regular HTTP download. For better performance, install the package with: `pip install huggingface_hub[hf_xet]` or `pip install hf_xet`\n",
      "Device set to use cpu\n"
     ]
    },
    {
     "name": "stdout",
     "output_type": "stream",
     "text": [
      "Method 3: Transformer (BART) Zero-shot Classification\n",
      "Accuracy : 0.8100\n",
      "Precision: 0.8462\n",
      "Recall   : 0.7174\n",
      "F1-Score : 0.7765\n"
     ]
    }
   ],
   "source": [
    "from transformers import pipeline\n",
    "\n",
    "classifier = pipeline(\"zero-shot-classification\", model=\"facebook/bart-large-mnli\")\n",
    "\n",
    "labels = [\"positive\", \"negative\"]\n",
    "test_snippets = test_df['text'].iloc[:100] \n",
    "true_labels = test_df['label'].iloc[:100].values\n",
    "pred_labels = []\n",
    "\n",
    "for text in test_snippets:\n",
    "    result = classifier(text, candidate_labels=labels)\n",
    "    pred = 1 if result['labels'][0] == 'positive' else 0\n",
    "    pred_labels.append(pred)\n",
    "\n",
    "print(\"Method 3: Transformer (BART) Zero-shot Classification\")\n",
    "print(f\"Accuracy : {accuracy_score(true_labels, pred_labels):.4f}\")\n",
    "print(f\"Precision: {precision_score(true_labels, pred_labels):.4f}\")\n",
    "print(f\"Recall   : {recall_score(true_labels, pred_labels):.4f}\")\n",
    "print(f\"F1-Score : {f1_score(true_labels, pred_labels):.4f}\")"
   ]
  },
  {
   "cell_type": "code",
   "execution_count": 14,
   "id": "eb295e3c",
   "metadata": {},
   "outputs": [
    {
     "data": {
      "text/html": [
       "<div>\n",
       "<style scoped>\n",
       "    .dataframe tbody tr th:only-of-type {\n",
       "        vertical-align: middle;\n",
       "    }\n",
       "\n",
       "    .dataframe tbody tr th {\n",
       "        vertical-align: top;\n",
       "    }\n",
       "\n",
       "    .dataframe thead th {\n",
       "        text-align: right;\n",
       "    }\n",
       "</style>\n",
       "<table border=\"1\" class=\"dataframe\">\n",
       "  <thead>\n",
       "    <tr style=\"text-align: right;\">\n",
       "      <th></th>\n",
       "      <th>Method</th>\n",
       "      <th>Accuracy</th>\n",
       "      <th>Precision</th>\n",
       "      <th>Recall</th>\n",
       "      <th>F1</th>\n",
       "    </tr>\n",
       "  </thead>\n",
       "  <tbody>\n",
       "    <tr>\n",
       "      <th>0</th>\n",
       "      <td>TF-IDF + LR</td>\n",
       "      <td>0.779653</td>\n",
       "      <td>0.773897</td>\n",
       "      <td>0.789869</td>\n",
       "      <td>0.781801</td>\n",
       "    </tr>\n",
       "    <tr>\n",
       "      <th>1</th>\n",
       "      <td>SpaCy Embeddings + LR</td>\n",
       "      <td>0.696203</td>\n",
       "      <td>0.706114</td>\n",
       "      <td>0.671670</td>\n",
       "      <td>0.688462</td>\n",
       "    </tr>\n",
       "    <tr>\n",
       "      <th>2</th>\n",
       "      <td>BART Zero-Shot</td>\n",
       "      <td>0.810000</td>\n",
       "      <td>0.846154</td>\n",
       "      <td>0.717391</td>\n",
       "      <td>0.776471</td>\n",
       "    </tr>\n",
       "  </tbody>\n",
       "</table>\n",
       "</div>"
      ],
      "text/plain": [
       "                  Method  Accuracy  Precision    Recall        F1\n",
       "0            TF-IDF + LR  0.779653   0.773897  0.789869  0.781801\n",
       "1  SpaCy Embeddings + LR  0.696203   0.706114  0.671670  0.688462\n",
       "2         BART Zero-Shot  0.810000   0.846154  0.717391  0.776471"
      ]
     },
     "execution_count": 14,
     "metadata": {},
     "output_type": "execute_result"
    }
   ],
   "source": [
    "results = pd.DataFrame([\n",
    "    ['TF-IDF + LR', accuracy_score(y_test, y_pred_lr), precision_score(y_test, y_pred_lr), recall_score(y_test, y_pred_lr), f1_score(y_test, y_pred_lr)],\n",
    "    ['SpaCy Embeddings + LR', accuracy_score(y_test, y_pred_embed), precision_score(y_test, y_pred_embed), recall_score(y_test, y_pred_embed), f1_score(y_test, y_pred_embed)],\n",
    "    ['BART Zero-Shot', accuracy_score(true_labels, pred_labels), precision_score(true_labels, pred_labels), recall_score(true_labels, pred_labels), f1_score(true_labels, pred_labels)]\n",
    "], columns=['Method', 'Accuracy', 'Precision', 'Recall', 'F1'])\n",
    "\n",
    "results"
   ]
  },
  {
   "cell_type": "code",
   "execution_count": 13,
   "id": "ce858efc",
   "metadata": {},
   "outputs": [
    {
     "data": {
      "image/png": "[encoded data removed]",
      "text/plain": [
       "<Figure size 800x400 with 1 Axes>"
      ]
     },
     "metadata": {},
     "output_type": "display_data"
    }
   ],
   "source": [
    "import matplotlib.pyplot as plt\n",
    "results.set_index('Method')[['Accuracy', 'F1']].plot(kind='bar', ylim=(0.5, 1), figsize=(8,4))\n",
    "plt.title(\"Comparison of Sentiment Classifiers\")\n",
    "plt.ylabel(\"Score\")\n",
    "plt.grid(True)\n",
    "plt.tight_layout()\n",
    "plt.show()"
   ]
  }
 ],
 "metadata": {
  "kernelspec": {
   "display_name": ".venv310",
   "language": "python",
   "name": "python3"
  },
  "language_info": {
   "codemirror_mode": {
    "name": "ipython",
    "version": 3
   },
   "file_extension": ".py",
   "mimetype": "text/x-python",
   "name": "python",
   "nbconvert_exporter": "python",
   "pygments_lexer": "ipython3",
   "version": "3.10.2"
  }
 },
 "nbformat": 4,
 "nbformat_minor": 5
}
