{
 "cells": [
  {
   "cell_type": "markdown",
   "id": "80a5ae5e",
   "metadata": {},
   "source": [
    "### Voronyi-Stepan-Camp-2025"
   ]
  },
  {
   "cell_type": "code",
   "execution_count": 45,
   "id": "822b3a62",
   "metadata": {},
   "outputs": [],
   "source": [
    "import pandas as pd\n",
    "import numpy as np\n",
    "from ast import literal_eval\n",
    "from sklearn.feature_extraction.text import TfidfVectorizer, CountVectorizer\n",
    "from sklearn.metrics.pairwise import linear_kernel, cosine_similarity"
   ]
  },
  {
   "cell_type": "code",
   "execution_count": 48,
   "id": "90803383",
   "metadata": {},
   "outputs": [
    {
     "data": {
      "text/html": [
       "<div>\n",
       "<style scoped>\n",
       "    .dataframe tbody tr th:only-of-type {\n",
       "        vertical-align: middle;\n",
       "    }\n",
       "\n",
       "    .dataframe tbody tr th {\n",
       "        vertical-align: top;\n",
       "    }\n",
       "\n",
       "    .dataframe thead th {\n",
       "        text-align: right;\n",
       "    }\n",
       "</style>\n",
       "<table border=\"1\" class=\"dataframe\">\n",
       "  <thead>\n",
       "    <tr style=\"text-align: right;\">\n",
       "      <th></th>\n",
       "      <th>adult</th>\n",
       "      <th>belongs_to_collection</th>\n",
       "      <th>budget</th>\n",
       "      <th>genres</th>\n",
       "      <th>homepage</th>\n",
       "      <th>id</th>\n",
       "      <th>imdb_id</th>\n",
       "      <th>original_language</th>\n",
       "      <th>original_title</th>\n",
       "      <th>overview</th>\n",
       "      <th>...</th>\n",
       "      <th>release_date</th>\n",
       "      <th>revenue</th>\n",
       "      <th>runtime</th>\n",
       "      <th>spoken_languages</th>\n",
       "      <th>status</th>\n",
       "      <th>tagline</th>\n",
       "      <th>title</th>\n",
       "      <th>video</th>\n",
       "      <th>vote_average</th>\n",
       "      <th>vote_count</th>\n",
       "    </tr>\n",
       "  </thead>\n",
       "  <tbody>\n",
       "    <tr>\n",
       "      <th>0</th>\n",
       "      <td>False</td>\n",
       "      <td>{'id': 10194, 'name': 'Toy Story Collection', ...</td>\n",
       "      <td>30000000</td>\n",
       "      <td>[{'id': 16, 'name': 'Animation'}, {'id': 35, '...</td>\n",
       "      <td>http://toystory.disney.com/toy-story</td>\n",
       "      <td>862</td>\n",
       "      <td>tt0114709</td>\n",
       "      <td>en</td>\n",
       "      <td>Toy Story</td>\n",
       "      <td>Led by Woody, Andy's toys live happily in his ...</td>\n",
       "      <td>...</td>\n",
       "      <td>1995-10-30</td>\n",
       "      <td>373554033.0</td>\n",
       "      <td>81.0</td>\n",
       "      <td>[{'iso_639_1': 'en', 'name': 'English'}]</td>\n",
       "      <td>Released</td>\n",
       "      <td>NaN</td>\n",
       "      <td>Toy Story</td>\n",
       "      <td>False</td>\n",
       "      <td>7.7</td>\n",
       "      <td>5415.0</td>\n",
       "    </tr>\n",
       "    <tr>\n",
       "      <th>1</th>\n",
       "      <td>False</td>\n",
       "      <td>NaN</td>\n",
       "      <td>65000000</td>\n",
       "      <td>[{'id': 12, 'name': 'Adventure'}, {'id': 14, '...</td>\n",
       "      <td>NaN</td>\n",
       "      <td>8844</td>\n",
       "      <td>tt0113497</td>\n",
       "      <td>en</td>\n",
       "      <td>Jumanji</td>\n",
       "      <td>When siblings Judy and Peter discover an encha...</td>\n",
       "      <td>...</td>\n",
       "      <td>1995-12-15</td>\n",
       "      <td>262797249.0</td>\n",
       "      <td>104.0</td>\n",
       "      <td>[{'iso_639_1': 'en', 'name': 'English'}, {'iso...</td>\n",
       "      <td>Released</td>\n",
       "      <td>Roll the dice and unleash the excitement!</td>\n",
       "      <td>Jumanji</td>\n",
       "      <td>False</td>\n",
       "      <td>6.9</td>\n",
       "      <td>2413.0</td>\n",
       "    </tr>\n",
       "    <tr>\n",
       "      <th>2</th>\n",
       "      <td>False</td>\n",
       "      <td>{'id': 119050, 'name': 'Grumpy Old Men Collect...</td>\n",
       "      <td>0</td>\n",
       "      <td>[{'id': 10749, 'name': 'Romance'}, {'id': 35, ...</td>\n",
       "      <td>NaN</td>\n",
       "      <td>15602</td>\n",
       "      <td>tt0113228</td>\n",
       "      <td>en</td>\n",
       "      <td>Grumpier Old Men</td>\n",
       "      <td>A family wedding reignites the ancient feud be...</td>\n",
       "      <td>...</td>\n",
       "      <td>1995-12-22</td>\n",
       "      <td>0.0</td>\n",
       "      <td>101.0</td>\n",
       "      <td>[{'iso_639_1': 'en', 'name': 'English'}]</td>\n",
       "      <td>Released</td>\n",
       "      <td>Still Yelling. Still Fighting. Still Ready for...</td>\n",
       "      <td>Grumpier Old Men</td>\n",
       "      <td>False</td>\n",
       "      <td>6.5</td>\n",
       "      <td>92.0</td>\n",
       "    </tr>\n",
       "  </tbody>\n",
       "</table>\n",
       "<p>3 rows × 24 columns</p>\n",
       "</div>"
      ],
      "text/plain": [
       "   adult                              belongs_to_collection    budget  \\\n",
       "0  False  {'id': 10194, 'name': 'Toy Story Collection', ...  30000000   \n",
       "1  False                                                NaN  65000000   \n",
       "2  False  {'id': 119050, 'name': 'Grumpy Old Men Collect...         0   \n",
       "\n",
       "                                              genres  \\\n",
       "0  [{'id': 16, 'name': 'Animation'}, {'id': 35, '...   \n",
       "1  [{'id': 12, 'name': 'Adventure'}, {'id': 14, '...   \n",
       "2  [{'id': 10749, 'name': 'Romance'}, {'id': 35, ...   \n",
       "\n",
       "                               homepage     id    imdb_id original_language  \\\n",
       "0  http://toystory.disney.com/toy-story    862  tt0114709                en   \n",
       "1                                   NaN   8844  tt0113497                en   \n",
       "2                                   NaN  15602  tt0113228                en   \n",
       "\n",
       "     original_title                                           overview  ...  \\\n",
       "0         Toy Story  Led by Woody, Andy's toys live happily in his ...  ...   \n",
       "1           Jumanji  When siblings Judy and Peter discover an encha...  ...   \n",
       "2  Grumpier Old Men  A family wedding reignites the ancient feud be...  ...   \n",
       "\n",
       "  release_date      revenue runtime  \\\n",
       "0   1995-10-30  373554033.0    81.0   \n",
       "1   1995-12-15  262797249.0   104.0   \n",
       "2   1995-12-22          0.0   101.0   \n",
       "\n",
       "                                    spoken_languages    status  \\\n",
       "0           [{'iso_639_1': 'en', 'name': 'English'}]  Released   \n",
       "1  [{'iso_639_1': 'en', 'name': 'English'}, {'iso...  Released   \n",
       "2           [{'iso_639_1': 'en', 'name': 'English'}]  Released   \n",
       "\n",
       "                                             tagline             title  video  \\\n",
       "0                                                NaN         Toy Story  False   \n",
       "1          Roll the dice and unleash the excitement!           Jumanji  False   \n",
       "2  Still Yelling. Still Fighting. Still Ready for...  Grumpier Old Men  False   \n",
       "\n",
       "  vote_average vote_count  \n",
       "0          7.7     5415.0  \n",
       "1          6.9     2413.0  \n",
       "2          6.5       92.0  \n",
       "\n",
       "[3 rows x 24 columns]"
      ]
     },
     "execution_count": 48,
     "metadata": {},
     "output_type": "execute_result"
    }
   ],
   "source": [
    "metadata = pd.read_csv('data/movies_metadata.csv', low_memory=False)\n",
    "credits = pd.read_csv('data/credits.csv')\n",
    "keywords = pd.read_csv('data/keywords.csv')\n",
    "\n",
    "metadata = pd.read_csv('data/movies_metadata.csv', low_memory=False)\n",
    "metadata.head(3)"
   ]
  },
  {
   "cell_type": "code",
   "execution_count": 49,
   "id": "e605aaca",
   "metadata": {},
   "outputs": [
    {
     "name": "stdout",
     "output_type": "stream",
     "text": [
      "Films considered for ranking: 4555\n"
     ]
    }
   ],
   "source": [
    "C = metadata['vote_average'].mean()\n",
    "m = metadata['vote_count'].quantile(0.90)\n",
    "\n",
    "qualified = metadata[metadata['vote_count'] >= m].copy()\n",
    "print(f\"Films considered for ranking: {qualified.shape[0]}\")"
   ]
  },
  {
   "cell_type": "code",
   "execution_count": 50,
   "id": "b4b8cdec",
   "metadata": {},
   "outputs": [],
   "source": [
    "def imdb_weighted(x, m=m, C=C):\n",
    "    v = x['vote_count']\n",
    "    R = x['vote_average']\n",
    "    return (v/(v + m)) * R + (m/(v + m)) * C"
   ]
  },
  {
   "cell_type": "code",
   "execution_count": 51,
   "id": "422e65d7",
   "metadata": {},
   "outputs": [
    {
     "name": "stdout",
     "output_type": "stream",
     "text": [
      "Top 10 movies by IMDb weighted score:\n",
      "                             title  vote_count  vote_average  weighted_score\n",
      "314       The Shawshank Redemption      8358.0           8.5        8.445869\n",
      "834                  The Godfather      6024.0           8.5        8.425439\n",
      "10309  Dilwale Dulhania Le Jayenge       661.0           9.1        8.421453\n",
      "12481              The Dark Knight     12269.0           8.3        8.265477\n",
      "2843                    Fight Club      9678.0           8.3        8.256385\n",
      "292                   Pulp Fiction      8670.0           8.3        8.251406\n",
      "522               Schindler's List      4436.0           8.3        8.206639\n",
      "23673                     Whiplash      4376.0           8.3        8.205404\n",
      "5481                 Spirited Away      3968.0           8.3        8.196055\n",
      "2211             Life Is Beautiful      3643.0           8.3        8.187171\n"
     ]
    }
   ],
   "source": [
    "qualified['weighted_score'] = qualified.apply(imdb_weighted, axis=1)\n",
    "top10_simple = qualified.sort_values('weighted_score', ascending=False).head(10)\n",
    "\n",
    "print(\"Top 10 movies by IMDb weighted score:\")\n",
    "print(top10_simple[['title','vote_count','vote_average','weighted_score']])"
   ]
  },
  {
   "cell_type": "code",
   "execution_count": 52,
   "id": "d989d140",
   "metadata": {},
   "outputs": [
    {
     "name": "stdout",
     "output_type": "stream",
     "text": [
      "TF-IDF matrix (overview) shape: (8000, 28557)\n"
     ]
    }
   ],
   "source": [
    "subset = metadata.iloc[:8000].copy()\n",
    "subset['overview'] = subset['overview'].fillna('')\n",
    "\n",
    "tfidf = TfidfVectorizer(stop_words='english')\n",
    "tfidf_overview = tfidf.fit_transform(subset['overview'])\n",
    "print(f\"TF-IDF matrix (overview) shape: {tfidf_overview.shape}\")"
   ]
  },
  {
   "cell_type": "code",
   "execution_count": 54,
   "id": "b6d0fa1c",
   "metadata": {},
   "outputs": [],
   "source": [
    "sim_overview = linear_kernel(tfidf_overview, tfidf_overview)\n",
    "overview_indices = pd.Series(subset.index, index=subset['title']).drop_duplicates()"
   ]
  },
  {
   "cell_type": "code",
   "execution_count": 55,
   "id": "129c53d6",
   "metadata": {},
   "outputs": [
    {
     "name": "stdout",
     "output_type": "stream",
     "text": [
      "['The Godfather: Part II', 'The Godfather: Part III', 'Mobsters', 'Queen of Hearts', 'American Movie', 'Made', 'Soft Fruit', 'The Young Americans', 'Family Business', 'The Valachi Papers']\n"
     ]
    }
   ],
   "source": [
    "def recommend_by_overview(title, topn=10):\n",
    "    idx = overview_indices.get(title)\n",
    "    if idx is None:\n",
    "        return []\n",
    "    scores = list(enumerate(sim_overview[idx]))\n",
    "    scores = sorted(scores, key=lambda x: x[1], reverse=True)[1:topn+1]\n",
    "    movie_ids = [i[0] for i in scores]\n",
    "    return subset['title'].iloc[movie_ids].tolist()\n",
    "\n",
    "print(recommend_by_overview('The Godfather'))"
   ]
  },
  {
   "cell_type": "code",
   "execution_count": 56,
   "id": "7348482c",
   "metadata": {},
   "outputs": [],
   "source": [
    "for df in [credits, keywords]:\n",
    "    df['id'] = df['id'].astype(int)\n",
    "metadata['id'] = pd.to_numeric(metadata['id'], errors='coerce').astype('Int64')\n",
    "metadata = metadata.dropna(subset=['id']).astype({'id':'int'})\n",
    "metadata = metadata.merge(credits, on='id').merge(keywords, on='id')\n",
    "\n",
    "for feature in ['cast','crew','keywords','genres']:\n",
    "    metadata[feature] = metadata[feature].apply(literal_eval)"
   ]
  },
  {
   "cell_type": "code",
   "execution_count": 57,
   "id": "d0dd5806",
   "metadata": {},
   "outputs": [],
   "source": [
    "def extract_director(crew_list):\n",
    "    for member in crew_list:\n",
    "        if member.get('job') == 'Director':\n",
    "            return member.get('name')\n",
    "    return ''\n",
    "\n",
    "def extract_names(lst):\n",
    "    names = [d.get('name','') for d in lst]\n",
    "    return names[:3]\n",
    "\n",
    "metadata['director'] = metadata['crew'].apply(extract_director)\n",
    "for feat in ['cast','keywords','genres']:\n",
    "    metadata[feat] = metadata[feat].apply(extract_names)"
   ]
  },
  {
   "cell_type": "code",
   "execution_count": 58,
   "id": "b4b45e13",
   "metadata": {},
   "outputs": [],
   "source": [
    "def clean(lst):\n",
    "    return [i.replace(' ','').lower() for i in lst]\n",
    "metadata['director'] = metadata['director'].str.replace(' ','').str.lower()\n",
    "for feat in ['cast','keywords','genres']:\n",
    "    metadata[feat] = metadata[feat].apply(clean)\n",
    "\n",
    "metadata['soup'] = metadata.apply(\n",
    "    lambda x: ' '.join(x['keywords']) + ' ' + ' '.join(x['cast']) + ' ' +\n",
    "              x['director'] + ' ' + ' '.join(x['genres']), axis=1)"
   ]
  },
  {
   "cell_type": "code",
   "execution_count": 59,
   "id": "6298f284",
   "metadata": {},
   "outputs": [],
   "source": [
    "small = metadata.iloc[:8000].copy()\n",
    "count = CountVectorizer(stop_words='english')\n",
    "count_matrix = count.fit_transform(small['soup'])"
   ]
  },
  {
   "cell_type": "code",
   "execution_count": 60,
   "id": "42d12300",
   "metadata": {},
   "outputs": [],
   "source": [
    "sim_soup = cosine_similarity(count_matrix, count_matrix)\n",
    "indices_soup = pd.Series(small.index, index=small['title']).drop_duplicates()"
   ]
  },
  {
   "cell_type": "code",
   "execution_count": 61,
   "id": "6ff0b15c",
   "metadata": {},
   "outputs": [],
   "source": [
    "def recommend_by_soup(title, topn=10):\n",
    "    idx = indices_soup.get(title)\n",
    "    if idx is None:\n",
    "        return []\n",
    "    sims = list(enumerate(sim_soup[idx]))\n",
    "    sims = sorted(sims, key=lambda x: x[1], reverse=True)[1:topn+1]\n",
    "    ids = [i[0] for i in sims]\n",
    "    return small['title'].iloc[ids].tolist()"
   ]
  },
  {
   "cell_type": "code",
   "execution_count": 62,
   "id": "f3231800",
   "metadata": {},
   "outputs": [
    {
     "name": "stdout",
     "output_type": "stream",
     "text": [
      "['Ill Gotten Gains', 'Jails, Hospitals & Hip-Hop', 'Lotto Land', 'The People vs. Larry Flynt', 'Other Voices Other Rooms', 'A River Runs Through It', 'Went to Coney Island on a Mission from God... Be Back by Five', 'Little Boy Blue', '25th Hour', 'Se7en']\n"
     ]
    }
   ],
   "source": [
    "print(recommend_by_soup('Fight Club'))"
   ]
  }
 ],
 "metadata": {
  "kernelspec": {
   "display_name": "Python 3",
   "language": "python",
   "name": "python3"
  },
  "language_info": {
   "codemirror_mode": {
    "name": "ipython",
    "version": 3
   },
   "file_extension": ".py",
   "mimetype": "text/x-python",
   "name": "python",
   "nbconvert_exporter": "python",
   "pygments_lexer": "ipython3",
   "version": "3.13.2"
  }
 },
 "nbformat": 4,
 "nbformat_minor": 5
}
