{
 "cells": [
  {
   "cell_type": "markdown",
   "id": "a6cc616a",
   "metadata": {},
   "source": [
    "### Voronyi-Stepan-Camp-2025\n",
    "### Brest Cancer Dataset"
   ]
  },
  {
   "cell_type": "code",
   "execution_count": 1,
   "id": "ebdc8998",
   "metadata": {},
   "outputs": [
    {
     "name": "stdout",
     "output_type": "stream",
     "text": [
      "labels: ['malignant' 'benign']\n",
      "features: ['mean radius' 'mean texture' 'mean perimeter' 'mean area'\n",
      " 'mean smoothness' 'mean compactness' 'mean concavity'\n",
      " 'mean concave points' 'mean symmetry' 'mean fractal dimension'\n",
      " 'radius error' 'texture error' 'perimeter error' 'area error'\n",
      " 'smoothness error' 'compactness error' 'concavity error'\n",
      " 'concave points error' 'symmetry error' 'fractal dimension error'\n",
      " 'worst radius' 'worst texture' 'worst perimeter' 'worst area'\n",
      " 'worst smoothness' 'worst compactness' 'worst concavity'\n",
      " 'worst concave points' 'worst symmetry' 'worst fractal dimension']\n"
     ]
    }
   ],
   "source": [
    "from sklearn.datasets import load_breast_cancer\n",
    "from sklearn.model_selection import train_test_split\n",
    "\n",
    "cancer = load_breast_cancer()\n",
    "X, y = cancer.data, cancer.target\n",
    "labels, features = cancer.target_names, cancer.feature_names\n",
    "print ('labels:',labels)\n",
    "print ('features:', features)\n",
    "\n",
    "X_train, X_test, y_train, y_test = train_test_split(X, y, random_state=0)\n"
   ]
  },
  {
   "cell_type": "markdown",
   "id": "fa11796d",
   "metadata": {},
   "source": [
    "### Decision Tree"
   ]
  },
  {
   "cell_type": "code",
   "execution_count": 5,
   "id": "ce04b345",
   "metadata": {},
   "outputs": [
    {
     "name": "stdout",
     "output_type": "stream",
     "text": [
      "train accuracy = 100.000%\n",
      "test accuracy = 94.406%\n"
     ]
    },
    {
     "data": {
      "text/plain": [
       "'Source.gv.pdf'"
      ]
     },
     "execution_count": 5,
     "metadata": {},
     "output_type": "execute_result"
    }
   ],
   "source": [
    "from sklearn.tree import DecisionTreeClassifier, export_graphviz\n",
    "import graphviz\n",
    "clf = DecisionTreeClassifier(criterion='entropy', random_state=42)\n",
    "clf.fit(X_train, y_train)\n",
    "print(\"train accuracy = {:.3%}\".format(clf.score(X_train, y_train)))\n",
    "print(\"test accuracy = {:.3%}\".format(clf.score(X_test, y_test)))\n",
    "dot_data = export_graphviz(\n",
    "    clf,\n",
    "    out_file=None,\n",
    "    feature_names=features,\n",
    "    class_names=labels,\n",
    "    filled=True,\n",
    "    rounded=True,\n",
    "    special_characters=True\n",
    ")\n",
    "graph = graphviz.Source(dot_data)\n",
    "graph.view(cleanup=True)\n"
   ]
  },
  {
   "cell_type": "markdown",
   "id": "1e3b992c",
   "metadata": {},
   "source": [
    "### Random Forest"
   ]
  },
  {
   "cell_type": "code",
   "execution_count": null,
   "id": "021e11cf",
   "metadata": {},
   "outputs": [
    {
     "name": "stdout",
     "output_type": "stream",
     "text": [
      "train accuracy= 100.000%\n",
      "test accuracy= 97.902%\n"
     ]
    }
   ],
   "source": [
    "from sklearn.pipeline import Pipeline\n",
    "from sklearn.ensemble import RandomForestClassifier\n",
    "def create_rf_pipeline():\n",
    "    pipeline = Pipeline([\n",
    "        ('rf_classifier', RandomForestClassifier())\n",
    "    ])\n",
    "    return pipeline\n",
    "rf_pipeline = create_rf_pipeline()\n",
    "rf_pipeline.fit(X_train, y_train)\n",
    "print(\"train accuracy= {:.3%}\".format(rf_pipeline.score(X_train, y_train)))\n",
    "print(\"test accuracy= {:.3%}\".format(rf_pipeline.score(X_test, y_test)))\n"
   ]
  },
  {
   "cell_type": "markdown",
   "id": "50b2361e",
   "metadata": {},
   "source": [
    "### Gradient Boosting Decision Trees (GBDT)"
   ]
  },
  {
   "cell_type": "code",
   "execution_count": 10,
   "id": "a87e721e",
   "metadata": {},
   "outputs": [
    {
     "name": "stdout",
     "output_type": "stream",
     "text": [
      "Train accuracy= 100.000%\n",
      "Test accuracy= 95.804%\n"
     ]
    }
   ],
   "source": [
    "from sklearn.ensemble import GradientBoostingClassifier\n",
    "def create_gbdt_pipeline():\n",
    "    gbdt_model = GradientBoostingClassifier(n_estimators=150, learning_rate=0.1, max_depth=3, random_state=42)\n",
    "    pipeline = Pipeline([\n",
    "        ('gbdt', gbdt_model)\n",
    "    ])\n",
    "    return pipeline\n",
    "gbdt_pipeline = create_gbdt_pipeline()\n",
    "gbdt_pipeline.fit(X_train, y_train)\n",
    "print(\"Train accuracy= {:.3%}\".format(gbdt_pipeline.score(X_train, y_train)))\n",
    "print(\"Test accuracy= {:.3%}\".format(gbdt_pipeline.score(X_test, y_test)))\n"
   ]
  },
  {
   "cell_type": "markdown",
   "id": "f8dc7306",
   "metadata": {},
   "source": [
    "### XGBoost"
   ]
  },
  {
   "cell_type": "code",
   "execution_count": 12,
   "id": "887c5dd4",
   "metadata": {},
   "outputs": [
    {
     "name": "stdout",
     "output_type": "stream",
     "text": [
      "Train accuracy= 100.000%\n",
      "Test accuracy= 98.601%\n"
     ]
    }
   ],
   "source": [
    "from xgboost import XGBClassifier\n",
    "def build_and_train_xgb(X_train, y_train):\n",
    "    model = XGBClassifier(eval_metric='logloss', random_state=1)\n",
    "    model.fit(X_train, y_train)\n",
    "    return model\n",
    "clf = build_and_train_xgb(X_train, y_train)\n",
    "print(\"Train accuracy= {:.3%}\".format(clf.score(X_train, y_train)))\n",
    "print(\"Test accuracy= {:.3%}\".format(clf.score(X_test, y_test)))\n",
    "\n"
   ]
  }
 ],
 "metadata": {
  "kernelspec": {
   "display_name": "Python 3",
   "language": "python",
   "name": "python3"
  },
  "language_info": {
   "codemirror_mode": {
    "name": "ipython",
    "version": 3
   },
   "file_extension": ".py",
   "mimetype": "text/x-python",
   "name": "python",
   "nbconvert_exporter": "python",
   "pygments_lexer": "ipython3",
   "version": "3.13.2"
  }
 },
 "nbformat": 4,
 "nbformat_minor": 5
}
